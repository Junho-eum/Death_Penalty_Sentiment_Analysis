{
 "cells": [
  {
   "cell_type": "code",
   "execution_count": 4,
   "id": "fe5cc13b",
   "metadata": {},
   "outputs": [],
   "source": [
    "import pandas as pd\n",
    "from webdriver_manager.chrome import ChromeDriverManager\n",
    "from selenium import webdriver\n",
    "from selenium.webdriver.common.keys import Keys\n",
    "import matplotlib.pyplot as plt\n",
    "from bs4 import BeautifulSoup\n",
    "import time"
   ]
  },
  {
   "cell_type": "code",
   "execution_count": 51,
   "id": "b32c3b2e",
   "metadata": {},
   "outputs": [],
   "source": [
    "# After watching the news about Robb Elementry school shooting incident, even though the criminal died I wondered what is the most harsh punishment for the criminals?\n",
    "# I wanted to see what people think about death penalty. \n",
    "# Do people think death penalty is the right method for criminals with the worst crimes?\n",
    "\n",
    "# Scrapping comments from the video 'Is the Death Penalty Ever Moral?'\n"
   ]
  },
  {
   "cell_type": "code",
   "execution_count": 52,
   "id": "7a35f40e",
   "metadata": {
    "scrolled": false
   },
   "outputs": [
    {
     "name": "stderr",
     "output_type": "stream",
     "text": [
      "/var/folders/zc/1dftl_rj0b55snyh5w747lv80000gn/T/ipykernel_3376/2364005499.py:3: DeprecationWarning: executable_path has been deprecated, please pass in a Service object\n",
      "  browser = webdriver.Chrome('./chromedriver')\n"
     ]
    }
   ],
   "source": [
    "# Scrapping comments from controversial Youtube video about death penalty\n",
    "# comment 갯수를 제한하거나 comment 갯수가 더 적은걸로 바꿔야될듯!\n",
    "browser = webdriver.Chrome('./chromedriver')\n",
    "url = 'https://www.youtube.com/watch?v=8dnVZibrV6g'\n",
    "browser.get(url)"
   ]
  },
  {
   "cell_type": "code",
   "execution_count": 53,
   "id": "53dbedfe",
   "metadata": {},
   "outputs": [],
   "source": [
    "# Scroll down the page to see all the comments\n",
    "while True:\n",
    "    scroll_height = 2000\n",
    "    document_height_before = browser.execute_script('return document.documentElement.scrollHeight')\n",
    "    browser.execute_script(f'window.scrollTo(0, {document_height_before + scroll_height});')\n",
    "    time.sleep(2.0)\n",
    "    document_height_after = browser.execute_script('return document.documentElement.scrollHeight')\n",
    "    if document_height_after == document_height_before:\n",
    "        break  "
   ]
  },
  {
   "cell_type": "code",
   "execution_count": 54,
   "id": "6d1d121e",
   "metadata": {
    "scrolled": false
   },
   "outputs": [
    {
     "name": "stderr",
     "output_type": "stream",
     "text": [
      "/var/folders/zc/1dftl_rj0b55snyh5w747lv80000gn/T/ipykernel_3376/4039777507.py:3: DeprecationWarning: find_elements_by_css_selector is deprecated. Please use find_elements(by=By.CSS_SELECTOR, value=css_selector) instead\n",
      "  comms = browser.find_elements_by_css_selector(selector)\n"
     ]
    }
   ],
   "source": [
    "# Scrapping comments\n",
    "selector = '#content'\n",
    "comms = browser.find_elements_by_css_selector(selector)"
   ]
  },
  {
   "cell_type": "code",
   "execution_count": 72,
   "id": "4204ca9d",
   "metadata": {},
   "outputs": [],
   "source": [
    "train_df2 = train_df.copy()"
   ]
  },
  {
   "cell_type": "code",
   "execution_count": 55,
   "id": "b65ee8e8",
   "metadata": {},
   "outputs": [],
   "source": [
    "commments_lst = [comment.text for comment in comms]"
   ]
  },
  {
   "cell_type": "code",
   "execution_count": 56,
   "id": "88eff4e0",
   "metadata": {},
   "outputs": [],
   "source": [
    "train_df = pd.DataFrame({'comment': commments_lst})"
   ]
  },
  {
   "cell_type": "code",
   "execution_count": 65,
   "id": "08468f67",
   "metadata": {},
   "outputs": [
    {
     "data": {
      "text/html": [
       "<div>\n",
       "<style scoped>\n",
       "    .dataframe tbody tr th:only-of-type {\n",
       "        vertical-align: middle;\n",
       "    }\n",
       "\n",
       "    .dataframe tbody tr th {\n",
       "        vertical-align: top;\n",
       "    }\n",
       "\n",
       "    .dataframe thead th {\n",
       "        text-align: right;\n",
       "    }\n",
       "</style>\n",
       "<table border=\"1\" class=\"dataframe\">\n",
       "  <thead>\n",
       "    <tr style=\"text-align: right;\">\n",
       "      <th></th>\n",
       "      <th>comment</th>\n",
       "      <th>upper_count</th>\n",
       "    </tr>\n",
       "  </thead>\n",
       "  <tbody>\n",
       "    <tr>\n",
       "      <th>1680</th>\n",
       "      <td>Death penalty is more humane, than life senten...</td>\n",
       "      <td>0</td>\n",
       "    </tr>\n",
       "    <tr>\n",
       "      <th>1681</th>\n",
       "      <td>Why not just let the victim decide with the co...</td>\n",
       "      <td>0</td>\n",
       "    </tr>\n",
       "    <tr>\n",
       "      <th>1682</th>\n",
       "      <td>Why can’t we go back in the olden days, where ...</td>\n",
       "      <td>0</td>\n",
       "    </tr>\n",
       "    <tr>\n",
       "      <th>1683</th>\n",
       "      <td></td>\n",
       "      <td>0</td>\n",
       "    </tr>\n",
       "    <tr>\n",
       "      <th>1684</th>\n",
       "      <td></td>\n",
       "      <td>0</td>\n",
       "    </tr>\n",
       "    <tr>\n",
       "      <th>1685</th>\n",
       "      <td></td>\n",
       "      <td>0</td>\n",
       "    </tr>\n",
       "    <tr>\n",
       "      <th>1686</th>\n",
       "      <td></td>\n",
       "      <td>0</td>\n",
       "    </tr>\n",
       "    <tr>\n",
       "      <th>1687</th>\n",
       "      <td></td>\n",
       "      <td>0</td>\n",
       "    </tr>\n",
       "    <tr>\n",
       "      <th>1688</th>\n",
       "      <td></td>\n",
       "      <td>0</td>\n",
       "    </tr>\n",
       "    <tr>\n",
       "      <th>1689</th>\n",
       "      <td></td>\n",
       "      <td>0</td>\n",
       "    </tr>\n",
       "  </tbody>\n",
       "</table>\n",
       "</div>"
      ],
      "text/plain": [
       "                                                comment  upper_count\n",
       "1680  Death penalty is more humane, than life senten...            0\n",
       "1681  Why not just let the victim decide with the co...            0\n",
       "1682  Why can’t we go back in the olden days, where ...            0\n",
       "1683                                                               0\n",
       "1684                                                               0\n",
       "1685                                                               0\n",
       "1686                                                               0\n",
       "1687                                                               0\n",
       "1688                                                               0\n",
       "1689                                                               0"
      ]
     },
     "execution_count": 65,
     "metadata": {},
     "output_type": "execute_result"
    }
   ],
   "source": [
    "train_df.tail(10)"
   ]
  },
  {
   "cell_type": "code",
   "execution_count": 67,
   "id": "0c88b797",
   "metadata": {},
   "outputs": [],
   "source": [
    "# 끝에 7개 empty cell 제거\n",
    "train_df = train_df[train_df['comment'] ]"
   ]
  },
  {
   "cell_type": "code",
   "execution_count": 68,
   "id": "7c3cde44",
   "metadata": {},
   "outputs": [
    {
     "data": {
      "text/html": [
       "<div>\n",
       "<style scoped>\n",
       "    .dataframe tbody tr th:only-of-type {\n",
       "        vertical-align: middle;\n",
       "    }\n",
       "\n",
       "    .dataframe tbody tr th {\n",
       "        vertical-align: top;\n",
       "    }\n",
       "\n",
       "    .dataframe thead th {\n",
       "        text-align: right;\n",
       "    }\n",
       "</style>\n",
       "<table border=\"1\" class=\"dataframe\">\n",
       "  <thead>\n",
       "    <tr style=\"text-align: right;\">\n",
       "      <th></th>\n",
       "      <th>comment</th>\n",
       "      <th>upper_count</th>\n",
       "    </tr>\n",
       "  </thead>\n",
       "  <tbody>\n",
       "    <tr>\n",
       "      <th>1</th>\n",
       "      <td>L vs KIRA in the comment section</td>\n",
       "      <td>2</td>\n",
       "    </tr>\n",
       "    <tr>\n",
       "      <th>3</th>\n",
       "      <td>I was all for the death penalty until someone ...</td>\n",
       "      <td>1</td>\n",
       "    </tr>\n",
       "    <tr>\n",
       "      <th>4</th>\n",
       "      <td>\"It is virtually impossible to execute an inno...</td>\n",
       "      <td>0</td>\n",
       "    </tr>\n",
       "    <tr>\n",
       "      <th>5</th>\n",
       "      <td>The question shouldn't be: \"Do some people des...</td>\n",
       "      <td>0</td>\n",
       "    </tr>\n",
       "    <tr>\n",
       "      <th>6</th>\n",
       "      <td>Some crimes are too evil for judgement on Eart...</td>\n",
       "      <td>0</td>\n",
       "    </tr>\n",
       "    <tr>\n",
       "      <th>...</th>\n",
       "      <td>...</td>\n",
       "      <td>...</td>\n",
       "    </tr>\n",
       "    <tr>\n",
       "      <th>1678</th>\n",
       "      <td>most opposed to cap punishment will quickly ch...</td>\n",
       "      <td>0</td>\n",
       "    </tr>\n",
       "    <tr>\n",
       "      <th>1679</th>\n",
       "      <td>It's like algebra. Whatever happens to one sid...</td>\n",
       "      <td>0</td>\n",
       "    </tr>\n",
       "    <tr>\n",
       "      <th>1680</th>\n",
       "      <td>Death penalty is more humane, than life senten...</td>\n",
       "      <td>0</td>\n",
       "    </tr>\n",
       "    <tr>\n",
       "      <th>1681</th>\n",
       "      <td>Why not just let the victim decide with the co...</td>\n",
       "      <td>0</td>\n",
       "    </tr>\n",
       "    <tr>\n",
       "      <th>1682</th>\n",
       "      <td>Why can’t we go back in the olden days, where ...</td>\n",
       "      <td>0</td>\n",
       "    </tr>\n",
       "  </tbody>\n",
       "</table>\n",
       "<p>1681 rows × 2 columns</p>\n",
       "</div>"
      ],
      "text/plain": [
       "                                                comment  upper_count\n",
       "1                      L vs KIRA in the comment section            2\n",
       "3     I was all for the death penalty until someone ...            1\n",
       "4     \"It is virtually impossible to execute an inno...            0\n",
       "5     The question shouldn't be: \"Do some people des...            0\n",
       "6     Some crimes are too evil for judgement on Eart...            0\n",
       "...                                                 ...          ...\n",
       "1678  most opposed to cap punishment will quickly ch...            0\n",
       "1679  It's like algebra. Whatever happens to one sid...            0\n",
       "1680  Death penalty is more humane, than life senten...            0\n",
       "1681  Why not just let the victim decide with the co...            0\n",
       "1682  Why can’t we go back in the olden days, where ...            0\n",
       "\n",
       "[1681 rows x 2 columns]"
      ]
     },
     "execution_count": 68,
     "metadata": {},
     "output_type": "execute_result"
    }
   ],
   "source": [
    "train_df"
   ]
  },
  {
   "cell_type": "code",
   "execution_count": 62,
   "id": "388529bf",
   "metadata": {},
   "outputs": [],
   "source": [
    "# drop the first row since it is not a comment from the user\n",
    "train_df.drop([0], axis=0, inplace=True)"
   ]
  },
  {
   "cell_type": "code",
   "execution_count": 63,
   "id": "f5f9f4d1",
   "metadata": {},
   "outputs": [],
   "source": [
    "# Counting the uppercase words\n",
    "# uppercase words are often used to express anger or negativity\n",
    "train_df['upper_count'] = train_df['comment'].apply(lambda x: len([x for x in x.split() if x.isupper()]))"
   ]
  },
  {
   "cell_type": "code",
   "execution_count": 69,
   "id": "aceefbc2",
   "metadata": {
    "scrolled": true
   },
   "outputs": [
    {
     "name": "stderr",
     "output_type": "stream",
     "text": [
      "/Users/junhoeum/opt/anaconda3/lib/python3.9/site-packages/pandas/util/_decorators.py:311: SettingWithCopyWarning: \n",
      "A value is trying to be set on a copy of a slice from a DataFrame\n",
      "\n",
      "See the caveats in the documentation: https://pandas.pydata.org/pandas-docs/stable/user_guide/indexing.html#returning-a-view-versus-a-copy\n",
      "  return func(*args, **kwargs)\n"
     ]
    }
   ],
   "source": [
    "# Preprocessing the data \n",
    "# remove rows with null values\n",
    "train_df.dropna(inplace = True)"
   ]
  },
  {
   "cell_type": "code",
   "execution_count": 70,
   "id": "825b5540",
   "metadata": {},
   "outputs": [
    {
     "data": {
      "text/html": [
       "<div>\n",
       "<style scoped>\n",
       "    .dataframe tbody tr th:only-of-type {\n",
       "        vertical-align: middle;\n",
       "    }\n",
       "\n",
       "    .dataframe tbody tr th {\n",
       "        vertical-align: top;\n",
       "    }\n",
       "\n",
       "    .dataframe thead th {\n",
       "        text-align: right;\n",
       "    }\n",
       "</style>\n",
       "<table border=\"1\" class=\"dataframe\">\n",
       "  <thead>\n",
       "    <tr style=\"text-align: right;\">\n",
       "      <th></th>\n",
       "      <th>comment</th>\n",
       "      <th>upper_count</th>\n",
       "    </tr>\n",
       "  </thead>\n",
       "  <tbody>\n",
       "    <tr>\n",
       "      <th>1</th>\n",
       "      <td>L vs KIRA in the comment section</td>\n",
       "      <td>2</td>\n",
       "    </tr>\n",
       "    <tr>\n",
       "      <th>3</th>\n",
       "      <td>I was all for the death penalty until someone ...</td>\n",
       "      <td>1</td>\n",
       "    </tr>\n",
       "    <tr>\n",
       "      <th>4</th>\n",
       "      <td>\"It is virtually impossible to execute an inno...</td>\n",
       "      <td>0</td>\n",
       "    </tr>\n",
       "    <tr>\n",
       "      <th>5</th>\n",
       "      <td>The question shouldn't be: \"Do some people des...</td>\n",
       "      <td>0</td>\n",
       "    </tr>\n",
       "    <tr>\n",
       "      <th>6</th>\n",
       "      <td>Some crimes are too evil for judgement on Eart...</td>\n",
       "      <td>0</td>\n",
       "    </tr>\n",
       "    <tr>\n",
       "      <th>...</th>\n",
       "      <td>...</td>\n",
       "      <td>...</td>\n",
       "    </tr>\n",
       "    <tr>\n",
       "      <th>1678</th>\n",
       "      <td>most opposed to cap punishment will quickly ch...</td>\n",
       "      <td>0</td>\n",
       "    </tr>\n",
       "    <tr>\n",
       "      <th>1679</th>\n",
       "      <td>It's like algebra. Whatever happens to one sid...</td>\n",
       "      <td>0</td>\n",
       "    </tr>\n",
       "    <tr>\n",
       "      <th>1680</th>\n",
       "      <td>Death penalty is more humane, than life senten...</td>\n",
       "      <td>0</td>\n",
       "    </tr>\n",
       "    <tr>\n",
       "      <th>1681</th>\n",
       "      <td>Why not just let the victim decide with the co...</td>\n",
       "      <td>0</td>\n",
       "    </tr>\n",
       "    <tr>\n",
       "      <th>1682</th>\n",
       "      <td>Why can’t we go back in the olden days, where ...</td>\n",
       "      <td>0</td>\n",
       "    </tr>\n",
       "  </tbody>\n",
       "</table>\n",
       "<p>1681 rows × 2 columns</p>\n",
       "</div>"
      ],
      "text/plain": [
       "                                                comment  upper_count\n",
       "1                      L vs KIRA in the comment section            2\n",
       "3     I was all for the death penalty until someone ...            1\n",
       "4     \"It is virtually impossible to execute an inno...            0\n",
       "5     The question shouldn't be: \"Do some people des...            0\n",
       "6     Some crimes are too evil for judgement on Eart...            0\n",
       "...                                                 ...          ...\n",
       "1678  most opposed to cap punishment will quickly ch...            0\n",
       "1679  It's like algebra. Whatever happens to one sid...            0\n",
       "1680  Death penalty is more humane, than life senten...            0\n",
       "1681  Why not just let the victim decide with the co...            0\n",
       "1682  Why can’t we go back in the olden days, where ...            0\n",
       "\n",
       "[1681 rows x 2 columns]"
      ]
     },
     "execution_count": 70,
     "metadata": {},
     "output_type": "execute_result"
    }
   ],
   "source": [
    "train_df"
   ]
  },
  {
   "cell_type": "code",
   "execution_count": 71,
   "id": "e625dbe7",
   "metadata": {},
   "outputs": [
    {
     "name": "stderr",
     "output_type": "stream",
     "text": [
      "/Users/junhoeum/opt/anaconda3/lib/python3.9/site-packages/pandas/util/_decorators.py:311: SettingWithCopyWarning: \n",
      "A value is trying to be set on a copy of a slice from a DataFrame\n",
      "\n",
      "See the caveats in the documentation: https://pandas.pydata.org/pandas-docs/stable/user_guide/indexing.html#returning-a-view-versus-a-copy\n",
      "  return func(*args, **kwargs)\n"
     ]
    }
   ],
   "source": [
    "# remove duplicates\n",
    "train_df.drop_duplicates(subset = ['comment'], inplace = True)"
   ]
  },
  {
   "cell_type": "code",
   "execution_count": 42,
   "id": "6f0ab63f",
   "metadata": {
    "scrolled": true
   },
   "outputs": [
    {
     "name": "stderr",
     "output_type": "stream",
     "text": [
      "/var/folders/zc/1dftl_rj0b55snyh5w747lv80000gn/T/ipykernel_6022/2713402024.py:2: FutureWarning: The default value of regex will change from True to False in a future version.\n",
      "  train_df['comment'] = train_df['comment'].str.replace('[^\\w\\s]', '')\n"
     ]
    }
   ],
   "source": [
    "# Remove punctuations\n",
    "train_df['comment'] = train_df['comment'].str.replace('[^\\w\\s]', '')"
   ]
  },
  {
   "cell_type": "code",
   "execution_count": 73,
   "id": "efb79086",
   "metadata": {
    "scrolled": true
   },
   "outputs": [
    {
     "name": "stderr",
     "output_type": "stream",
     "text": [
      "/var/folders/zc/1dftl_rj0b55snyh5w747lv80000gn/T/ipykernel_3376/1305531077.py:6: SettingWithCopyWarning: \n",
      "A value is trying to be set on a copy of a slice from a DataFrame.\n",
      "Try using .loc[row_indexer,col_indexer] = value instead\n",
      "\n",
      "See the caveats in the documentation: https://pandas.pydata.org/pandas-docs/stable/user_guide/indexing.html#returning-a-view-versus-a-copy\n",
      "  train_df['comment'] = train_df['comment'].apply(lambda x: ' '.join(x for x in x.split() if x not in stop))\n"
     ]
    }
   ],
   "source": [
    "# Remove stopwords\n",
    "import nltk\n",
    "from nltk.corpus import stopwords\n",
    "stop = stopwords.words()\n",
    "\n",
    "train_df['comment'] = train_df['comment'].apply(lambda x: ' '.join(x for x in x.split() if x not in stop))"
   ]
  },
  {
   "cell_type": "code",
   "execution_count": 75,
   "id": "4e550f28",
   "metadata": {},
   "outputs": [
    {
     "name": "stderr",
     "output_type": "stream",
     "text": [
      "/var/folders/zc/1dftl_rj0b55snyh5w747lv80000gn/T/ipykernel_3376/1480804511.py:3: SettingWithCopyWarning: \n",
      "A value is trying to be set on a copy of a slice from a DataFrame.\n",
      "Try using .loc[row_indexer,col_indexer] = value instead\n",
      "\n",
      "See the caveats in the documentation: https://pandas.pydata.org/pandas-docs/stable/user_guide/indexing.html#returning-a-view-versus-a-copy\n",
      "  train_df['comment'] = train_df['comment'].apply(lambda x: ' '.join(x for x in x.split(' ') if x not in freq))\n"
     ]
    }
   ],
   "source": [
    "# Frequent word removal\n",
    "freq = pd.Series(' '.join(train_df['comment']).split(' ')).value_counts()[:7]\n",
    "train_df['comment'] = train_df['comment'].apply(lambda x: ' '.join(x for x in x.split(' ') if x not in freq))"
   ]
  },
  {
   "cell_type": "code",
   "execution_count": 76,
   "id": "8c227c96",
   "metadata": {},
   "outputs": [
    {
     "name": "stderr",
     "output_type": "stream",
     "text": [
      "/var/folders/zc/1dftl_rj0b55snyh5w747lv80000gn/T/ipykernel_3376/3601288409.py:3: SettingWithCopyWarning: \n",
      "A value is trying to be set on a copy of a slice from a DataFrame.\n",
      "Try using .loc[row_indexer,col_indexer] = value instead\n",
      "\n",
      "See the caveats in the documentation: https://pandas.pydata.org/pandas-docs/stable/user_guide/indexing.html#returning-a-view-versus-a-copy\n",
      "  train_df['comment'] = train_df['comment'].apply(lambda x: ' '.join(x for x in x.split(' ') if x not in rare))\n"
     ]
    }
   ],
   "source": [
    "# Rare word removal\n",
    "rare = pd.Series(' '.join(train_df['comment']).split(' ')).value_counts()[-15:]\n",
    "train_df['comment'] = train_df['comment'].apply(lambda x: ' '.join(x for x in x.split(' ') if x not in rare))"
   ]
  },
  {
   "cell_type": "code",
   "execution_count": 77,
   "id": "9010654e",
   "metadata": {},
   "outputs": [
    {
     "name": "stderr",
     "output_type": "stream",
     "text": [
      "/var/folders/zc/1dftl_rj0b55snyh5w747lv80000gn/T/ipykernel_3376/2308675076.py:2: SettingWithCopyWarning: \n",
      "A value is trying to be set on a copy of a slice from a DataFrame.\n",
      "Try using .loc[row_indexer,col_indexer] = value instead\n",
      "\n",
      "See the caveats in the documentation: https://pandas.pydata.org/pandas-docs/stable/user_guide/indexing.html#returning-a-view-versus-a-copy\n",
      "  train_df['comment'] = train_df['comment'].apply(lambda x: x.lower())\n"
     ]
    }
   ],
   "source": [
    "# Lowercase the comments\n",
    "train_df['comment'] = train_df['comment'].apply(lambda x: x.lower())"
   ]
  },
  {
   "cell_type": "code",
   "execution_count": 80,
   "id": "c3b76317",
   "metadata": {},
   "outputs": [
    {
     "name": "stderr",
     "output_type": "stream",
     "text": [
      "[nltk_data] Downloading package averaged_perceptron_tagger to\n",
      "[nltk_data]     /Users/junhoeum/nltk_data...\n",
      "[nltk_data]   Package averaged_perceptron_tagger is already up-to-\n",
      "[nltk_data]       date!\n"
     ]
    }
   ],
   "source": [
    "from nltk.stem import WordNetLemmatizer\n",
    "from nltk.corpus import wordnet\n",
    "\n",
    "nltk.download('averaged_perceptron_tagger')\n",
    "\n",
    "def get_wordnet_pos(treebank_tag):\n",
    "    if treebank_tag.startswith('J'):\n",
    "        return wordnet.ADJ\n",
    "    elif treebank_tag.startswith('V'):\n",
    "        return wordnet.VERB\n",
    "    elif treebank_tag.startswith('N'):\n",
    "        return wordnet.NOUN\n",
    "    elif treebank_tag.startswith('R'):\n",
    "        return wordnet.ADV\n",
    "    else:\n",
    "        return wordnet.NOUN\n",
    "    \n",
    "# Using lemmatizer to lemmatize all comments in the 'comment' column"
   ]
  },
  {
   "cell_type": "code",
   "execution_count": 81,
   "id": "6db36676",
   "metadata": {},
   "outputs": [
    {
     "data": {
      "text/plain": [
       "'Hi I have be junho'"
      ]
     },
     "execution_count": 81,
     "metadata": {},
     "output_type": "execute_result"
    }
   ],
   "source": [
    "lemmatizer = WordNetLemmatizer()\n",
    "\n",
    "def lemmatizer_pos(sentence):\n",
    "    sentence = sentence.split()\n",
    "    words_and_tags = nltk.pos_tag(sentence)\n",
    "    lemmatized_lst = []\n",
    "    for word, tag in words_and_tags:\n",
    "        lemma = lemmatizer.lemmatize(word, pos = get_wordnet_pos(tag))\n",
    "        lemmatized_lst.append(lemma)\n",
    "    return ' '.join(lemmatized_lst)\n",
    "\n",
    "lemmatizer_pos('Hi I has been junho')"
   ]
  },
  {
   "cell_type": "code",
   "execution_count": 82,
   "id": "0e4d9692",
   "metadata": {},
   "outputs": [
    {
     "name": "stderr",
     "output_type": "stream",
     "text": [
      "/var/folders/zc/1dftl_rj0b55snyh5w747lv80000gn/T/ipykernel_3376/690323866.py:1: SettingWithCopyWarning: \n",
      "A value is trying to be set on a copy of a slice from a DataFrame.\n",
      "Try using .loc[row_indexer,col_indexer] = value instead\n",
      "\n",
      "See the caveats in the documentation: https://pandas.pydata.org/pandas-docs/stable/user_guide/indexing.html#returning-a-view-versus-a-copy\n",
      "  train_df['lemmatized'] = train_df['comment'].apply(lambda x: lemmatizer_pos(x))\n"
     ]
    }
   ],
   "source": [
    "train_df['lemmatized'] = train_df['comment'].apply(lambda x: lemmatizer_pos(x))"
   ]
  },
  {
   "cell_type": "code",
   "execution_count": 83,
   "id": "5fa7d323",
   "metadata": {},
   "outputs": [
    {
     "data": {
      "text/html": [
       "<div>\n",
       "<style scoped>\n",
       "    .dataframe tbody tr th:only-of-type {\n",
       "        vertical-align: middle;\n",
       "    }\n",
       "\n",
       "    .dataframe tbody tr th {\n",
       "        vertical-align: top;\n",
       "    }\n",
       "\n",
       "    .dataframe thead th {\n",
       "        text-align: right;\n",
       "    }\n",
       "</style>\n",
       "<table border=\"1\" class=\"dataframe\">\n",
       "  <thead>\n",
       "    <tr style=\"text-align: right;\">\n",
       "      <th></th>\n",
       "      <th>comment</th>\n",
       "      <th>upper_count</th>\n",
       "      <th>lemmatized</th>\n",
       "    </tr>\n",
       "  </thead>\n",
       "  <tbody>\n",
       "    <tr>\n",
       "      <th>1</th>\n",
       "      <td>l vs kira comment section</td>\n",
       "      <td>2</td>\n",
       "      <td>l v kira comment section</td>\n",
       "    </tr>\n",
       "    <tr>\n",
       "      <th>3</th>\n",
       "      <td>someone asked question \"do trust government ne...</td>\n",
       "      <td>1</td>\n",
       "      <td>someone ask question \"do trust government neve...</td>\n",
       "    </tr>\n",
       "    <tr>\n",
       "      <th>4</th>\n",
       "      <td>\"it virtually impossible execute innocent pers...</td>\n",
       "      <td>0</td>\n",
       "      <td>\"it virtually impossible execute innocent pers...</td>\n",
       "    </tr>\n",
       "    <tr>\n",
       "      <th>5</th>\n",
       "      <td>question be: \"do deserve die?\", be: \"should go...</td>\n",
       "      <td>0</td>\n",
       "      <td>question be: \"do deserve die?\", be: \"should go...</td>\n",
       "    </tr>\n",
       "    <tr>\n",
       "      <th>6</th>\n",
       "      <td>some crimes evil judgement earth. send next re...</td>\n",
       "      <td>0</td>\n",
       "      <td>some crime evil judgement earth. send next rec...</td>\n",
       "    </tr>\n",
       "    <tr>\n",
       "      <th>...</th>\n",
       "      <td>...</td>\n",
       "      <td>...</td>\n",
       "      <td>...</td>\n",
       "    </tr>\n",
       "    <tr>\n",
       "      <th>1678</th>\n",
       "      <td>opposed cap punishment quickly change opinion ...</td>\n",
       "      <td>0</td>\n",
       "      <td>opposed cap punishment quickly change opinion ...</td>\n",
       "    </tr>\n",
       "    <tr>\n",
       "      <th>1679</th>\n",
       "      <td>it's like algebra. whatever happens side happe...</td>\n",
       "      <td>0</td>\n",
       "      <td>it's like algebra. whatever happen side happen...</td>\n",
       "    </tr>\n",
       "    <tr>\n",
       "      <th>1680</th>\n",
       "      <td>death humane, sentence. what better - suffer s...</td>\n",
       "      <td>0</td>\n",
       "      <td>death humane, sentence. what good - suffer sec...</td>\n",
       "    </tr>\n",
       "    <tr>\n",
       "      <th>1681</th>\n",
       "      <td>why let victim decide court providing options...</td>\n",
       "      <td>0</td>\n",
       "      <td>why let victim decide court provide options...</td>\n",
       "    </tr>\n",
       "    <tr>\n",
       "      <th>1682</th>\n",
       "      <td>why can’t go back olden days, prisoners thrown...</td>\n",
       "      <td>0</td>\n",
       "      <td>why can’t go back olden days, prisoner throw a...</td>\n",
       "    </tr>\n",
       "  </tbody>\n",
       "</table>\n",
       "<p>1680 rows × 3 columns</p>\n",
       "</div>"
      ],
      "text/plain": [
       "                                                comment  upper_count  \\\n",
       "1                             l vs kira comment section            2   \n",
       "3     someone asked question \"do trust government ne...            1   \n",
       "4     \"it virtually impossible execute innocent pers...            0   \n",
       "5     question be: \"do deserve die?\", be: \"should go...            0   \n",
       "6     some crimes evil judgement earth. send next re...            0   \n",
       "...                                                 ...          ...   \n",
       "1678  opposed cap punishment quickly change opinion ...            0   \n",
       "1679  it's like algebra. whatever happens side happe...            0   \n",
       "1680  death humane, sentence. what better - suffer s...            0   \n",
       "1681   why let victim decide court providing options...            0   \n",
       "1682  why can’t go back olden days, prisoners thrown...            0   \n",
       "\n",
       "                                             lemmatized  \n",
       "1                              l v kira comment section  \n",
       "3     someone ask question \"do trust government neve...  \n",
       "4     \"it virtually impossible execute innocent pers...  \n",
       "5     question be: \"do deserve die?\", be: \"should go...  \n",
       "6     some crime evil judgement earth. send next rec...  \n",
       "...                                                 ...  \n",
       "1678  opposed cap punishment quickly change opinion ...  \n",
       "1679  it's like algebra. whatever happen side happen...  \n",
       "1680  death humane, sentence. what good - suffer sec...  \n",
       "1681     why let victim decide court provide options...  \n",
       "1682  why can’t go back olden days, prisoner throw a...  \n",
       "\n",
       "[1680 rows x 3 columns]"
      ]
     },
     "execution_count": 83,
     "metadata": {},
     "output_type": "execute_result"
    }
   ],
   "source": [
    "train_df"
   ]
  },
  {
   "cell_type": "raw",
   "id": "b8b51d9a",
   "metadata": {},
   "source": [
    "# Get Polarity score using TextBlob and label them as 0(negative) and 1(positive)\n",
    "from textblob import TextBlob\n",
    "\n",
    "def polarity_score(sentence):\n",
    "    res = TextBlob(sentence)\n",
    "    return res.sentiment.polarity\n",
    "\n",
    "train_df['polarity_score'] = train_df['comment'].apply(lambda x: polarity_score(x))\n",
    "\n"
   ]
  },
  {
   "cell_type": "code",
   "execution_count": 87,
   "id": "4414b064",
   "metadata": {},
   "outputs": [],
   "source": [
    "from textblob import TextBlob"
   ]
  },
  {
   "cell_type": "code",
   "execution_count": 88,
   "id": "751e84de",
   "metadata": {},
   "outputs": [
    {
     "name": "stderr",
     "output_type": "stream",
     "text": [
      "/var/folders/zc/1dftl_rj0b55snyh5w747lv80000gn/T/ipykernel_3376/3324267846.py:5: SettingWithCopyWarning: \n",
      "A value is trying to be set on a copy of a slice from a DataFrame.\n",
      "Try using .loc[row_indexer,col_indexer] = value instead\n",
      "\n",
      "See the caveats in the documentation: https://pandas.pydata.org/pandas-docs/stable/user_guide/indexing.html#returning-a-view-versus-a-copy\n",
      "  train_df['polarity_score'] = train_df['comment'].apply(lambda x: polarity_score(x))\n",
      "/var/folders/zc/1dftl_rj0b55snyh5w747lv80000gn/T/ipykernel_3376/3324267846.py:6: SettingWithCopyWarning: \n",
      "A value is trying to be set on a copy of a slice from a DataFrame.\n",
      "Try using .loc[row_indexer,col_indexer] = value instead\n",
      "\n",
      "See the caveats in the documentation: https://pandas.pydata.org/pandas-docs/stable/user_guide/indexing.html#returning-a-view-versus-a-copy\n",
      "  train_df['label'] = train_df['polarity_score'].apply(lambda x: 1 if x > 0 else 0)\n"
     ]
    }
   ],
   "source": [
    "# Labeling the polarity score -> positive(1), negative(0)\n",
    "def polarity_score(sentence):\n",
    "    res = TextBlob(sentence)\n",
    "    return res.sentiment.polarity\n",
    "train_df['polarity_score'] = train_df['comment'].apply(lambda x: polarity_score(x))\n",
    "train_df['label'] = train_df['polarity_score'].apply(lambda x: 1 if x > 0 else 0)"
   ]
  },
  {
   "cell_type": "code",
   "execution_count": 89,
   "id": "08b8eb89",
   "metadata": {},
   "outputs": [
    {
     "data": {
      "text/html": [
       "<div>\n",
       "<style scoped>\n",
       "    .dataframe tbody tr th:only-of-type {\n",
       "        vertical-align: middle;\n",
       "    }\n",
       "\n",
       "    .dataframe tbody tr th {\n",
       "        vertical-align: top;\n",
       "    }\n",
       "\n",
       "    .dataframe thead th {\n",
       "        text-align: right;\n",
       "    }\n",
       "</style>\n",
       "<table border=\"1\" class=\"dataframe\">\n",
       "  <thead>\n",
       "    <tr style=\"text-align: right;\">\n",
       "      <th></th>\n",
       "      <th>comment</th>\n",
       "      <th>upper_count</th>\n",
       "      <th>lemmatized</th>\n",
       "      <th>polarity_score</th>\n",
       "      <th>label</th>\n",
       "    </tr>\n",
       "  </thead>\n",
       "  <tbody>\n",
       "    <tr>\n",
       "      <th>1</th>\n",
       "      <td>l vs kira comment section</td>\n",
       "      <td>2</td>\n",
       "      <td>l v kira comment section</td>\n",
       "      <td>0.000000</td>\n",
       "      <td>0</td>\n",
       "    </tr>\n",
       "    <tr>\n",
       "      <th>3</th>\n",
       "      <td>someone asked question \"do trust government ne...</td>\n",
       "      <td>1</td>\n",
       "      <td>someone ask question \"do trust government neve...</td>\n",
       "      <td>0.000000</td>\n",
       "      <td>0</td>\n",
       "    </tr>\n",
       "    <tr>\n",
       "      <th>4</th>\n",
       "      <td>\"it virtually impossible execute innocent pers...</td>\n",
       "      <td>0</td>\n",
       "      <td>\"it virtually impossible execute innocent pers...</td>\n",
       "      <td>0.144444</td>\n",
       "      <td>1</td>\n",
       "    </tr>\n",
       "    <tr>\n",
       "      <th>5</th>\n",
       "      <td>question be: \"do deserve die?\", be: \"should go...</td>\n",
       "      <td>0</td>\n",
       "      <td>question be: \"do deserve die?\", be: \"should go...</td>\n",
       "      <td>0.500000</td>\n",
       "      <td>1</td>\n",
       "    </tr>\n",
       "    <tr>\n",
       "      <th>6</th>\n",
       "      <td>some crimes evil judgement earth. send next re...</td>\n",
       "      <td>0</td>\n",
       "      <td>some crime evil judgement earth. send next rec...</td>\n",
       "      <td>-0.166667</td>\n",
       "      <td>0</td>\n",
       "    </tr>\n",
       "    <tr>\n",
       "      <th>...</th>\n",
       "      <td>...</td>\n",
       "      <td>...</td>\n",
       "      <td>...</td>\n",
       "      <td>...</td>\n",
       "      <td>...</td>\n",
       "    </tr>\n",
       "    <tr>\n",
       "      <th>1678</th>\n",
       "      <td>opposed cap punishment quickly change opinion ...</td>\n",
       "      <td>0</td>\n",
       "      <td>opposed cap punishment quickly change opinion ...</td>\n",
       "      <td>0.261111</td>\n",
       "      <td>1</td>\n",
       "    </tr>\n",
       "    <tr>\n",
       "      <th>1679</th>\n",
       "      <td>it's like algebra. whatever happens side happe...</td>\n",
       "      <td>0</td>\n",
       "      <td>it's like algebra. whatever happen side happen...</td>\n",
       "      <td>-0.125000</td>\n",
       "      <td>0</td>\n",
       "    </tr>\n",
       "    <tr>\n",
       "      <th>1680</th>\n",
       "      <td>death humane, sentence. what better - suffer s...</td>\n",
       "      <td>0</td>\n",
       "      <td>death humane, sentence. what good - suffer sec...</td>\n",
       "      <td>-0.050000</td>\n",
       "      <td>0</td>\n",
       "    </tr>\n",
       "    <tr>\n",
       "      <th>1681</th>\n",
       "      <td>why let victim decide court providing options...</td>\n",
       "      <td>0</td>\n",
       "      <td>why let victim decide court provide options...</td>\n",
       "      <td>-0.075000</td>\n",
       "      <td>0</td>\n",
       "    </tr>\n",
       "    <tr>\n",
       "      <th>1682</th>\n",
       "      <td>why can’t go back olden days, prisoners thrown...</td>\n",
       "      <td>0</td>\n",
       "      <td>why can’t go back olden days, prisoner throw a...</td>\n",
       "      <td>0.000000</td>\n",
       "      <td>0</td>\n",
       "    </tr>\n",
       "  </tbody>\n",
       "</table>\n",
       "<p>1680 rows × 5 columns</p>\n",
       "</div>"
      ],
      "text/plain": [
       "                                                comment  upper_count  \\\n",
       "1                             l vs kira comment section            2   \n",
       "3     someone asked question \"do trust government ne...            1   \n",
       "4     \"it virtually impossible execute innocent pers...            0   \n",
       "5     question be: \"do deserve die?\", be: \"should go...            0   \n",
       "6     some crimes evil judgement earth. send next re...            0   \n",
       "...                                                 ...          ...   \n",
       "1678  opposed cap punishment quickly change opinion ...            0   \n",
       "1679  it's like algebra. whatever happens side happe...            0   \n",
       "1680  death humane, sentence. what better - suffer s...            0   \n",
       "1681   why let victim decide court providing options...            0   \n",
       "1682  why can’t go back olden days, prisoners thrown...            0   \n",
       "\n",
       "                                             lemmatized  polarity_score  label  \n",
       "1                              l v kira comment section        0.000000      0  \n",
       "3     someone ask question \"do trust government neve...        0.000000      0  \n",
       "4     \"it virtually impossible execute innocent pers...        0.144444      1  \n",
       "5     question be: \"do deserve die?\", be: \"should go...        0.500000      1  \n",
       "6     some crime evil judgement earth. send next rec...       -0.166667      0  \n",
       "...                                                 ...             ...    ...  \n",
       "1678  opposed cap punishment quickly change opinion ...        0.261111      1  \n",
       "1679  it's like algebra. whatever happen side happen...       -0.125000      0  \n",
       "1680  death humane, sentence. what good - suffer sec...       -0.050000      0  \n",
       "1681     why let victim decide court provide options...       -0.075000      0  \n",
       "1682  why can’t go back olden days, prisoner throw a...        0.000000      0  \n",
       "\n",
       "[1680 rows x 5 columns]"
      ]
     },
     "execution_count": 89,
     "metadata": {},
     "output_type": "execute_result"
    }
   ],
   "source": [
    "train_df"
   ]
  },
  {
   "cell_type": "code",
   "execution_count": 90,
   "id": "8d3b82c1",
   "metadata": {},
   "outputs": [
    {
     "data": {
      "text/plain": [
       "<AxesSubplot:>"
      ]
     },
     "execution_count": 90,
     "metadata": {},
     "output_type": "execute_result"
    },
    {
     "data": {
      "image/png": "[encoded data removed]",
      "text/plain": [
       "<Figure size 432x288 with 1 Axes>"
      ]
     },
     "metadata": {
      "needs_background": "light"
     },
     "output_type": "display_data"
    }
   ],
   "source": [
    "# Visualize the distribution of 0 and 1 in labels column\n",
    "train_df['label'].value_counts().plot(kind = 'bar')\n",
    "# More negative comments"
   ]
  },
  {
   "cell_type": "code",
   "execution_count": 43,
   "id": "7c72c131",
   "metadata": {},
   "outputs": [
    {
     "data": {
      "text/plain": [
       "0"
      ]
     },
     "execution_count": 43,
     "metadata": {},
     "output_type": "execute_result"
    }
   ],
   "source": [
    "train_df.loc[train_df['comment'] == 'l vs kira comment section'].index[0]"
   ]
  },
  {
   "cell_type": "code",
   "execution_count": 98,
   "id": "bdded500",
   "metadata": {},
   "outputs": [],
   "source": [
    "# write dataframe into csv file\n",
    "train_df.to_csv('Ever_Moral?.csv')\n",
    "\n",
    "\n"
   ]
  },
  {
   "cell_type": "code",
   "execution_count": 64,
   "id": "c183d8a2",
   "metadata": {},
   "outputs": [],
   "source": [
    "# Get TF-IDF\n",
    "# TF  = (Frequency of a word in the document)/(Total words in the document)\n",
    "# IDF = Log((Total number of docs)/(Number of docs containing the word))"
   ]
  },
  {
   "cell_type": "code",
   "execution_count": 17,
   "id": "ae8deac3",
   "metadata": {},
   "outputs": [],
   "source": [
    "import nltk\n",
    "import numpy as np\n",
    "from nltk import word_tokenize"
   ]
  },
  {
   "cell_type": "code",
   "execution_count": 7,
   "id": "d0d0f60c",
   "metadata": {},
   "outputs": [],
   "source": [
    "train_df = pd.read_csv('./data/Ever_Moral?.csv')"
   ]
  },
  {
   "cell_type": "code",
   "execution_count": 12,
   "id": "1ee7aa74",
   "metadata": {},
   "outputs": [],
   "source": [
    "train_df['comment'] = train_df['comment'].astype('str')"
   ]
  },
  {
   "cell_type": "code",
   "execution_count": 13,
   "id": "43f501df",
   "metadata": {},
   "outputs": [],
   "source": [
    "idx = 0\n",
    "word2idx = {}\n",
    "tokenized_docs = []\n",
    "for doc in train_df['comment']:\n",
    "    words = word_tokenize(doc)\n",
    "    doc_as_int = []\n",
    "    for word in words:\n",
    "        if word not in word2idx:\n",
    "            word2idx[word] = idx\n",
    "            idx += 1\n",
    "        doc_as_int.append(word2idx[word])\n",
    "    tokenized_docs.append(doc_as_int)"
   ]
  },
  {
   "cell_type": "code",
   "execution_count": 14,
   "id": "d7f7a885",
   "metadata": {},
   "outputs": [],
   "source": [
    "N = len(train_df['comment'])\n",
    "V = len(word2idx)"
   ]
  },
  {
   "cell_type": "code",
   "execution_count": 18,
   "id": "117ff1dd",
   "metadata": {},
   "outputs": [],
   "source": [
    "tf = np.zeros((N,V))"
   ]
  },
  {
   "cell_type": "code",
   "execution_count": 19,
   "id": "da1d6921",
   "metadata": {},
   "outputs": [],
   "source": [
    "for i, doc_as_int in enumerate(tokenized_docs):\n",
    "    for j in doc_as_int:\n",
    "        tf[i,j] += 1\n"
   ]
  },
  {
   "cell_type": "code",
   "execution_count": 21,
   "id": "9ccbea52",
   "metadata": {},
   "outputs": [],
   "source": [
    "document_freq = np.sum(tf >0, axis = 0)\n",
    "idf = np.log(N/document_freq)\n",
    "tf_idf = tf * idf\n",
    "np.random.seed(1234)"
   ]
  },
  {
   "cell_type": "code",
   "execution_count": 22,
   "id": "ee3c733c",
   "metadata": {},
   "outputs": [],
   "source": [
    "idx2word = {}\n",
    "for key, val in word2idx.items():\n",
    "    idx2word[val] = key"
   ]
  },
  {
   "cell_type": "code",
   "execution_count": 30,
   "id": "f6f53334",
   "metadata": {
    "scrolled": true
   },
   "outputs": [
    {
     "name": "stdout",
     "output_type": "stream",
     "text": [
      "Comment:  why can’t go back olden days, prisoners thrown arena’s sausages around neck’s, big lion waiting them?!?\n",
      "Top 5 terms: \n",
      "lion\n",
      "olden\n",
      "neck\n",
      "sausages\n",
      "arena\n"
     ]
    }
   ],
   "source": [
    "i = np.random.choice(N)\n",
    "row = train_df.iloc[i]\n",
    "print('Comment: ', row['comment'].split('\\n',1)[0])\n",
    "print('Top 5 terms: ')\n",
    "\n",
    "scores = tf_idf[i]\n",
    "indices = (-scores).argsort()\n",
    "for j in indices[:5]:\n",
    "    print(idx2word[j])"
   ]
  },
  {
   "cell_type": "code",
   "execution_count": 47,
   "id": "8c33929a",
   "metadata": {},
   "outputs": [],
   "source": [
    "train_df.loc[train_df['comment'] == 'l vs kira comment section'].index[0]\n",
    "\n",
    "def tf_idf_top(i):\n",
    "    i = train_df.loc[train_df['comment'] == i].index[0]\n",
    "    row = train_df.iloc[i]\n",
    "    scores = tf_idf[i]\n",
    "    indices = (-scores).argsort()\n",
    "    tf_words = []\n",
    "    for j in indices[:5]:\n",
    "        tf_words.append(idx2word[j])\n",
    "    return tf_words\n",
    "\n",
    "train_df['tf_idf'] = train_df['comment'].apply(lambda x: tf_idf_top(x))    \n",
    "    "
   ]
  },
  {
   "cell_type": "code",
   "execution_count": 48,
   "id": "2ab48aa7",
   "metadata": {},
   "outputs": [
    {
     "data": {
      "text/html": [
       "<div>\n",
       "<style scoped>\n",
       "    .dataframe tbody tr th:only-of-type {\n",
       "        vertical-align: middle;\n",
       "    }\n",
       "\n",
       "    .dataframe tbody tr th {\n",
       "        vertical-align: top;\n",
       "    }\n",
       "\n",
       "    .dataframe thead th {\n",
       "        text-align: right;\n",
       "    }\n",
       "</style>\n",
       "<table border=\"1\" class=\"dataframe\">\n",
       "  <thead>\n",
       "    <tr style=\"text-align: right;\">\n",
       "      <th></th>\n",
       "      <th>Unnamed: 0</th>\n",
       "      <th>comment</th>\n",
       "      <th>upper_count</th>\n",
       "      <th>lemmatized</th>\n",
       "      <th>polarity_score</th>\n",
       "      <th>label</th>\n",
       "      <th>tf_idf</th>\n",
       "    </tr>\n",
       "  </thead>\n",
       "  <tbody>\n",
       "    <tr>\n",
       "      <th>0</th>\n",
       "      <td>1</td>\n",
       "      <td>l vs kira comment section</td>\n",
       "      <td>2</td>\n",
       "      <td>l v kira comment section</td>\n",
       "      <td>0.000000</td>\n",
       "      <td>0</td>\n",
       "      <td>[l, kira, section, vs, comment]</td>\n",
       "    </tr>\n",
       "    <tr>\n",
       "      <th>1</th>\n",
       "      <td>3</td>\n",
       "      <td>someone asked question \"do trust government ne...</td>\n",
       "      <td>1</td>\n",
       "      <td>someone ask question \"do trust government neve...</td>\n",
       "      <td>0.000000</td>\n",
       "      <td>0</td>\n",
       "      <td>[asked, trust, mistake, question, do]</td>\n",
       "    </tr>\n",
       "    <tr>\n",
       "      <th>2</th>\n",
       "      <td>4</td>\n",
       "      <td>\"it virtually impossible execute innocent pers...</td>\n",
       "      <td>0</td>\n",
       "      <td>\"it virtually impossible execute innocent pers...</td>\n",
       "      <td>0.144444</td>\n",
       "      <td>1</td>\n",
       "      <td>[virtually, leg, lmao, word, '']</td>\n",
       "    </tr>\n",
       "    <tr>\n",
       "      <th>3</th>\n",
       "      <td>5</td>\n",
       "      <td>question be: \"do deserve die?\", be: \"should go...</td>\n",
       "      <td>0</td>\n",
       "      <td>question be: \"do deserve die?\", be: \"should go...</td>\n",
       "      <td>0.500000</td>\n",
       "      <td>1</td>\n",
       "      <td>[be, die, ``, subjective, understanding]</td>\n",
       "    </tr>\n",
       "    <tr>\n",
       "      <th>4</th>\n",
       "      <td>6</td>\n",
       "      <td>some crimes evil judgement earth. send next re...</td>\n",
       "      <td>0</td>\n",
       "      <td>some crime evil judgement earth. send next rec...</td>\n",
       "      <td>-0.166667</td>\n",
       "      <td>0</td>\n",
       "      <td>[judgement, greater, next, send, earth]</td>\n",
       "    </tr>\n",
       "    <tr>\n",
       "      <th>...</th>\n",
       "      <td>...</td>\n",
       "      <td>...</td>\n",
       "      <td>...</td>\n",
       "      <td>...</td>\n",
       "      <td>...</td>\n",
       "      <td>...</td>\n",
       "      <td>...</td>\n",
       "    </tr>\n",
       "    <tr>\n",
       "      <th>1675</th>\n",
       "      <td>1678</td>\n",
       "      <td>opposed cap punishment quickly change opinion ...</td>\n",
       "      <td>0</td>\n",
       "      <td>opposed cap punishment quickly change opinion ...</td>\n",
       "      <td>0.261111</td>\n",
       "      <td>1</td>\n",
       "      <td>[cap, hypocrisy, quickly, friends, opposed]</td>\n",
       "    </tr>\n",
       "    <tr>\n",
       "      <th>1676</th>\n",
       "      <td>1679</td>\n",
       "      <td>it's like algebra. whatever happens side happe...</td>\n",
       "      <td>0</td>\n",
       "      <td>it's like algebra. whatever happen side happen...</td>\n",
       "      <td>-0.125000</td>\n",
       "      <td>0</td>\n",
       "      <td>[algebra, adds, other, happens, whatever]</td>\n",
       "    </tr>\n",
       "    <tr>\n",
       "      <th>1677</th>\n",
       "      <td>1680</td>\n",
       "      <td>death humane, sentence. what better - suffer s...</td>\n",
       "      <td>0</td>\n",
       "      <td>death humane, sentence. what good - suffer sec...</td>\n",
       "      <td>-0.050000</td>\n",
       "      <td>0</td>\n",
       "      <td>[years, seconds, physical, crazy, humane]</td>\n",
       "    </tr>\n",
       "    <tr>\n",
       "      <th>1678</th>\n",
       "      <td>1681</td>\n",
       "      <td>why let victim decide court providing options...</td>\n",
       "      <td>0</td>\n",
       "      <td>why let victim decide court provide options...</td>\n",
       "      <td>-0.075000</td>\n",
       "      <td>0</td>\n",
       "      <td>[providing, options, court, why, decide]</td>\n",
       "    </tr>\n",
       "    <tr>\n",
       "      <th>1679</th>\n",
       "      <td>1682</td>\n",
       "      <td>why can’t go back olden days, prisoners thrown...</td>\n",
       "      <td>0</td>\n",
       "      <td>why can’t go back olden days, prisoner throw a...</td>\n",
       "      <td>0.000000</td>\n",
       "      <td>0</td>\n",
       "      <td>[lion, olden, neck, sausages, arena]</td>\n",
       "    </tr>\n",
       "  </tbody>\n",
       "</table>\n",
       "<p>1680 rows × 7 columns</p>\n",
       "</div>"
      ],
      "text/plain": [
       "      Unnamed: 0                                            comment  \\\n",
       "0              1                          l vs kira comment section   \n",
       "1              3  someone asked question \"do trust government ne...   \n",
       "2              4  \"it virtually impossible execute innocent pers...   \n",
       "3              5  question be: \"do deserve die?\", be: \"should go...   \n",
       "4              6  some crimes evil judgement earth. send next re...   \n",
       "...          ...                                                ...   \n",
       "1675        1678  opposed cap punishment quickly change opinion ...   \n",
       "1676        1679  it's like algebra. whatever happens side happe...   \n",
       "1677        1680  death humane, sentence. what better - suffer s...   \n",
       "1678        1681   why let victim decide court providing options...   \n",
       "1679        1682  why can’t go back olden days, prisoners thrown...   \n",
       "\n",
       "      upper_count                                         lemmatized  \\\n",
       "0               2                           l v kira comment section   \n",
       "1               1  someone ask question \"do trust government neve...   \n",
       "2               0  \"it virtually impossible execute innocent pers...   \n",
       "3               0  question be: \"do deserve die?\", be: \"should go...   \n",
       "4               0  some crime evil judgement earth. send next rec...   \n",
       "...           ...                                                ...   \n",
       "1675            0  opposed cap punishment quickly change opinion ...   \n",
       "1676            0  it's like algebra. whatever happen side happen...   \n",
       "1677            0  death humane, sentence. what good - suffer sec...   \n",
       "1678            0     why let victim decide court provide options...   \n",
       "1679            0  why can’t go back olden days, prisoner throw a...   \n",
       "\n",
       "      polarity_score  label                                       tf_idf  \n",
       "0           0.000000      0              [l, kira, section, vs, comment]  \n",
       "1           0.000000      0        [asked, trust, mistake, question, do]  \n",
       "2           0.144444      1             [virtually, leg, lmao, word, '']  \n",
       "3           0.500000      1     [be, die, ``, subjective, understanding]  \n",
       "4          -0.166667      0      [judgement, greater, next, send, earth]  \n",
       "...              ...    ...                                          ...  \n",
       "1675        0.261111      1  [cap, hypocrisy, quickly, friends, opposed]  \n",
       "1676       -0.125000      0    [algebra, adds, other, happens, whatever]  \n",
       "1677       -0.050000      0    [years, seconds, physical, crazy, humane]  \n",
       "1678       -0.075000      0     [providing, options, court, why, decide]  \n",
       "1679        0.000000      0         [lion, olden, neck, sausages, arena]  \n",
       "\n",
       "[1680 rows x 7 columns]"
      ]
     },
     "execution_count": 48,
     "metadata": {},
     "output_type": "execute_result"
    }
   ],
   "source": [
    "train_df"
   ]
  },
  {
   "cell_type": "code",
   "execution_count": null,
   "id": "d8878364",
   "metadata": {},
   "outputs": [],
   "source": [
    "# Make TF-IDF column to get top 5 words from every comment\n",
    "train_df['TF-IDF'] = "
   ]
  },
  {
   "cell_type": "code",
   "execution_count": null,
   "id": "2182df6d",
   "metadata": {},
   "outputs": [],
   "source": [
    "# Scroll down the page to see all the comments\n",
    "while True:\n",
    "    scroll_height = 2000\n",
    "    document_height_before = browser.execute_script('return document.documentElement.scrollHeight')\n",
    "    browser.execute_script(f'window.scrollTo(0, {document_height_before + scroll_height});')\n",
    "    time.sleep(2.0)\n",
    "    document_height_after = browser.execute_script('return document.documentElement.scrollHeight')\n",
    "    if document_height_after == document_height_before:\n",
    "        pass  "
   ]
  }
 ],
 "metadata": {
  "kernelspec": {
   "display_name": "Python 3.10.2 64-bit",
   "language": "python",
   "name": "python3"
  },
  "language_info": {
   "codemirror_mode": {
    "name": "ipython",
    "version": 3
   },
   "file_extension": ".py",
   "mimetype": "text/x-python",
   "name": "python",
   "nbconvert_exporter": "python",
   "pygments_lexer": "ipython3",
   "version": "3.10.2"
  },
  "vscode": {
   "interpreter": {
    "hash": "aee8b7b246df8f9039afb4144a1f6fd8d2ca17a180786b69acc140d282b71a49"
   }
  }
 },
 "nbformat": 4,
 "nbformat_minor": 5
}
