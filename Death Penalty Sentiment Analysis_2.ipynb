{
 "cells": [
  {
   "cell_type": "code",
   "execution_count": 26,
   "id": "ba1b7687",
   "metadata": {},
   "outputs": [],
   "source": [
    "import pandas as pd\n",
    "from webdriver_manager.chrome import ChromeDriverManager\n",
    "from selenium import webdriver\n",
    "from selenium.webdriver.common.keys import Keys\n",
    "import matplotlib.pyplot as plt\n",
    "from bs4 import BeautifulSoup\n",
    "import time\n",
    "import nltk\n",
    "from nltk.corpus import stopwords"
   ]
  },
  {
   "cell_type": "code",
   "execution_count": 2,
   "id": "33e27cec",
   "metadata": {},
   "outputs": [
    {
     "name": "stderr",
     "output_type": "stream",
     "text": [
      "/var/folders/zc/1dftl_rj0b55snyh5w747lv80000gn/T/ipykernel_74090/3573404249.py:1: DeprecationWarning: executable_path has been deprecated, please pass in a Service object\n",
      "  browser = webdriver.Chrome('./chromedriver')\n"
     ]
    }
   ],
   "source": [
    "browser = webdriver.Chrome('./chromedriver')\n",
    "url = 'https://www.youtube.com/watch?v=npnH0_natfs'\n",
    "browser.get(url)"
   ]
  },
  {
   "cell_type": "code",
   "execution_count": 3,
   "id": "70a76d30",
   "metadata": {},
   "outputs": [],
   "source": [
    "# Scroll down the page to see all the comments\n",
    "while True:\n",
    "    scroll_height = 2000\n",
    "    document_height_before = browser.execute_script('return document.documentElement.scrollHeight')\n",
    "    browser.execute_script(f'window.scrollTo(0, {document_height_before + scroll_height});')\n",
    "    time.sleep(1.8)\n",
    "    document_height_after = browser.execute_script('return document.documentElement.scrollHeight')\n",
    "    if document_height_after == document_height_before:\n",
    "        break  "
   ]
  },
  {
   "cell_type": "code",
   "execution_count": 4,
   "id": "23a5c8f6",
   "metadata": {},
   "outputs": [
    {
     "name": "stderr",
     "output_type": "stream",
     "text": [
      "/var/folders/zc/1dftl_rj0b55snyh5w747lv80000gn/T/ipykernel_74090/2083964583.py:2: DeprecationWarning: find_elements_by_css_selector is deprecated. Please use find_elements(by=By.CSS_SELECTOR, value=css_selector) instead\n",
      "  comms = browser.find_elements_by_css_selector(selector)\n"
     ]
    }
   ],
   "source": [
    "selector = '#content'\n",
    "comms = browser.find_elements_by_css_selector(selector)"
   ]
  },
  {
   "cell_type": "code",
   "execution_count": 6,
   "id": "a5b4ae46",
   "metadata": {},
   "outputs": [],
   "source": [
    "comments_lst = [comment.text for comment in comms]"
   ]
  },
  {
   "cell_type": "code",
   "execution_count": 8,
   "id": "45a3032d",
   "metadata": {},
   "outputs": [],
   "source": [
    "train_df = pd.DataFrame({'comment':comments_lst})"
   ]
  },
  {
   "cell_type": "code",
   "execution_count": 10,
   "id": "5b8ba8c3",
   "metadata": {},
   "outputs": [],
   "source": [
    "train_df = train_df[train_df['comment'] != '']"
   ]
  },
  {
   "cell_type": "code",
   "execution_count": 12,
   "id": "bc0ef848",
   "metadata": {},
   "outputs": [
    {
     "name": "stderr",
     "output_type": "stream",
     "text": [
      "/Users/junhoeum/opt/anaconda3/lib/python3.9/site-packages/pandas/core/frame.py:4906: SettingWithCopyWarning: \n",
      "A value is trying to be set on a copy of a slice from a DataFrame\n",
      "\n",
      "See the caveats in the documentation: https://pandas.pydata.org/pandas-docs/stable/user_guide/indexing.html#returning-a-view-versus-a-copy\n",
      "  return super().drop(\n"
     ]
    }
   ],
   "source": [
    "train_df.drop([0], axis = 0, inplace = True)"
   ]
  },
  {
   "cell_type": "code",
   "execution_count": 14,
   "id": "de5b8698",
   "metadata": {},
   "outputs": [],
   "source": [
    "train_df1 = train_df.copy()"
   ]
  },
  {
   "cell_type": "code",
   "execution_count": 18,
   "id": "aca1d928",
   "metadata": {},
   "outputs": [],
   "source": [
    "# pre-process data\n",
    "# drop all null values\n",
    "train_df1.dropna(inplace = True)\n",
    "# drop all duplicates\n",
    "train_df1.drop_duplicates(subset = ['comment'], inplace = True)"
   ]
  },
  {
   "cell_type": "code",
   "execution_count": 23,
   "id": "7d0259a9",
   "metadata": {},
   "outputs": [],
   "source": [
    "# Count all uppercase words\n",
    "# Negativity & Anger Analysis\n",
    "train_df1['upper_count'] = train_df1['comment'].apply(lambda x: len([x for x in x.split() if x.isupper()]))"
   ]
  },
  {
   "cell_type": "code",
   "execution_count": 25,
   "id": "25d8cb1a",
   "metadata": {},
   "outputs": [
    {
     "name": "stderr",
     "output_type": "stream",
     "text": [
      "/var/folders/zc/1dftl_rj0b55snyh5w747lv80000gn/T/ipykernel_74090/1022500390.py:2: FutureWarning: The default value of regex will change from True to False in a future version.\n",
      "  train_df1['comment'] = train_df1['comment'].str.replace('[^\\w\\s]', '')\n"
     ]
    }
   ],
   "source": [
    "# Removing punctuation\n",
    "train_df1['comment'] = train_df1['comment'].str.replace('[^\\w\\s]', '')"
   ]
  },
  {
   "cell_type": "code",
   "execution_count": 27,
   "id": "c793cf9b",
   "metadata": {},
   "outputs": [],
   "source": [
    "# Remove stopwords\n",
    "stop = stopwords.words()\n",
    "train_df1['comment'] = train_df1['comment'].apply(lambda x: ' '.join(x for x in x.split() if x not in stop))"
   ]
  },
  {
   "cell_type": "code",
   "execution_count": 32,
   "id": "0d33fec5",
   "metadata": {},
   "outputs": [],
   "source": [
    "# Look for frequently used word\n",
    "freq = pd.Series(' '.join(train_df['comment']).split(' ')).value_counts()[:10]\n",
    "# Remove top 10 freq used words since it doesn't contain any meaning\n",
    "train_df1['comment'] = train_df1['comment'].apply(lambda x: ' '.join(x for x in x.split(' ') if x not in freq))"
   ]
  },
  {
   "cell_type": "code",
   "execution_count": 35,
   "id": "6c0d75f6",
   "metadata": {},
   "outputs": [],
   "source": [
    "# Look for rarely used words\n",
    "rare = pd.Series(' '.join(train_df['comment']).split(' ')).value_counts()[-10:]\n",
    "train_df1['comment'] = train_df['comment'].apply(lambda x: ' '.join(x for x in x.split() if x not in rare))\n"
   ]
  },
  {
   "cell_type": "code",
   "execution_count": 37,
   "id": "a56dc21b",
   "metadata": {},
   "outputs": [],
   "source": [
    "# Lowercasing the comments\n",
    "train_df1['comment'] = train_df1['comment'].apply(lambda x: x.lower())"
   ]
  },
  {
   "cell_type": "code",
   "execution_count": 38,
   "id": "1de5c55e",
   "metadata": {},
   "outputs": [
    {
     "data": {
      "text/html": [
       "<div>\n",
       "<style scoped>\n",
       "    .dataframe tbody tr th:only-of-type {\n",
       "        vertical-align: middle;\n",
       "    }\n",
       "\n",
       "    .dataframe tbody tr th {\n",
       "        vertical-align: top;\n",
       "    }\n",
       "\n",
       "    .dataframe thead th {\n",
       "        text-align: right;\n",
       "    }\n",
       "</style>\n",
       "<table border=\"1\" class=\"dataframe\">\n",
       "  <thead>\n",
       "    <tr style=\"text-align: right;\">\n",
       "      <th></th>\n",
       "      <th>comment</th>\n",
       "      <th>upper_count</th>\n",
       "    </tr>\n",
       "  </thead>\n",
       "  <tbody>\n",
       "    <tr>\n",
       "      <th>7</th>\n",
       "      <td>cbs miami's carey codd reports on the latest c...</td>\n",
       "      <td>1</td>\n",
       "    </tr>\n",
       "    <tr>\n",
       "      <th>8</th>\n",
       "      <td>love how school's don't take real solid action...</td>\n",
       "      <td>0</td>\n",
       "    </tr>\n",
       "    <tr>\n",
       "      <th>9</th>\n",
       "      <td>damn he really is the quiet kid.</td>\n",
       "      <td>0</td>\n",
       "    </tr>\n",
       "    <tr>\n",
       "      <th>10</th>\n",
       "      <td>i feel for his family. imagine waking up to yo...</td>\n",
       "      <td>2</td>\n",
       "    </tr>\n",
       "    <tr>\n",
       "      <th>11</th>\n",
       "      <td>why is nobody talking about the guy who saved ...</td>\n",
       "      <td>0</td>\n",
       "    </tr>\n",
       "    <tr>\n",
       "      <th>...</th>\n",
       "      <td>...</td>\n",
       "      <td>...</td>\n",
       "    </tr>\n",
       "    <tr>\n",
       "      <th>1963</th>\n",
       "      <td>dont force the killer out of someone and you w...</td>\n",
       "      <td>0</td>\n",
       "    </tr>\n",
       "    <tr>\n",
       "      <th>1964</th>\n",
       "      <td>if the guy on death row has life insurance and...</td>\n",
       "      <td>0</td>\n",
       "    </tr>\n",
       "    <tr>\n",
       "      <th>1965</th>\n",
       "      <td>what the hell ddt oes he need a attorney for? ...</td>\n",
       "      <td>1</td>\n",
       "    </tr>\n",
       "    <tr>\n",
       "      <th>1966</th>\n",
       "      <td>ha. what he supposed to say “i shot a bunch of...</td>\n",
       "      <td>1</td>\n",
       "    </tr>\n",
       "    <tr>\n",
       "      <th>1967</th>\n",
       "      <td>i am his fan</td>\n",
       "      <td>1</td>\n",
       "    </tr>\n",
       "  </tbody>\n",
       "</table>\n",
       "<p>1937 rows × 2 columns</p>\n",
       "</div>"
      ],
      "text/plain": [
       "                                                comment  upper_count\n",
       "7     cbs miami's carey codd reports on the latest c...            1\n",
       "8     love how school's don't take real solid action...            0\n",
       "9                      damn he really is the quiet kid.            0\n",
       "10    i feel for his family. imagine waking up to yo...            2\n",
       "11    why is nobody talking about the guy who saved ...            0\n",
       "...                                                 ...          ...\n",
       "1963  dont force the killer out of someone and you w...            0\n",
       "1964  if the guy on death row has life insurance and...            0\n",
       "1965  what the hell ddt oes he need a attorney for? ...            1\n",
       "1966  ha. what he supposed to say “i shot a bunch of...            1\n",
       "1967                                       i am his fan            1\n",
       "\n",
       "[1937 rows x 2 columns]"
      ]
     },
     "execution_count": 38,
     "metadata": {},
     "output_type": "execute_result"
    }
   ],
   "source": [
    "train_df1"
   ]
  },
  {
   "cell_type": "code",
   "execution_count": 39,
   "id": "84a12087",
   "metadata": {},
   "outputs": [
    {
     "name": "stderr",
     "output_type": "stream",
     "text": [
      "[nltk_data] Downloading package averaged_perceptron_tagger to\n",
      "[nltk_data]     /Users/junhoeum/nltk_data...\n",
      "[nltk_data]   Package averaged_perceptron_tagger is already up-to-\n",
      "[nltk_data]       date!\n"
     ]
    }
   ],
   "source": [
    "from nltk.stem import WordNetLemmatizer\n",
    "from nltk.corpus import wordnet\n",
    "\n",
    "nltk.download('averaged_perceptron_tagger')\n",
    "\n",
    "def get_wordnet_pos(treebank_tag):\n",
    "    if treebank_tag.startswith('J'):\n",
    "        return wordnet.ADJ\n",
    "    elif treebank_tag.startswith('V'):\n",
    "        return wordnet.VERB\n",
    "    elif treebank_tag.startswith('N'):\n",
    "        return wordnet.NOUN\n",
    "    elif treebank_tag.startswith('R'):\n",
    "        return wordnet.ADV\n",
    "    else:\n",
    "        return wordnet.NOUN"
   ]
  },
  {
   "cell_type": "code",
   "execution_count": 40,
   "id": "60c817d8",
   "metadata": {},
   "outputs": [],
   "source": [
    "lemmatizer = WordNetLemmatizer()\n",
    "\n",
    "def lemmatizer_pos(sentence):\n",
    "    sentence = sentence.split()\n",
    "    words_and_tags = nltk.pos_tag(sentence)\n",
    "    lemmatized_lst = []\n",
    "    for word, tag in words_and_tags:\n",
    "        lemma = lemmatizer.lemmatize(word, pos = get_wordnet_pos(tag))\n",
    "        lemmatized_lst.append(lemma)\n",
    "    return ' '.join(lemmatized_lst)"
   ]
  },
  {
   "cell_type": "code",
   "execution_count": 42,
   "id": "72c0f902",
   "metadata": {},
   "outputs": [],
   "source": [
    "train_df1['lemmatized'] = train_df1['comment'].apply(lambda x: lemmatizer_pos(x))"
   ]
  },
  {
   "cell_type": "code",
   "execution_count": 45,
   "id": "249e55ad",
   "metadata": {},
   "outputs": [],
   "source": [
    "from textblob import TextBlob\n",
    "def polarity_score(sentence):\n",
    "    res = TextBlob(sentence)\n",
    "    return res.sentiment.polarity\n",
    "train_df1['polarity_score'] = train_df1['comment'].apply(lambda x: polarity_score(x))\n",
    "train_df1['label'] = train_df1['polarity_score'].apply(lambda x: 1 if x > 0 else 0)"
   ]
  },
  {
   "cell_type": "code",
   "execution_count": 47,
   "id": "45a82a3c",
   "metadata": {},
   "outputs": [
    {
     "data": {
      "text/plain": [
       "<AxesSubplot:>"
      ]
     },
     "execution_count": 47,
     "metadata": {},
     "output_type": "execute_result"
    },
    {
     "data": {
      "image/png": "[encoded data removed]",
      "text/plain": [
       "<Figure size 432x288 with 1 Axes>"
      ]
     },
     "metadata": {
      "needs_background": "light"
     },
     "output_type": "display_data"
    }
   ],
   "source": [
    "train_df1['label'].value_counts().plot(kind = 'bar')"
   ]
  },
  {
   "cell_type": "code",
   "execution_count": 48,
   "id": "914f38be",
   "metadata": {},
   "outputs": [],
   "source": [
    "train_df1.to_csv('Shooting_Suspect.csv')"
   ]
  }
 ],
 "metadata": {
  "kernelspec": {
   "display_name": "Python 3.10.2 64-bit",
   "language": "python",
   "name": "python3"
  },
  "language_info": {
   "codemirror_mode": {
    "name": "ipython",
    "version": 3
   },
   "file_extension": ".py",
   "mimetype": "text/x-python",
   "name": "python",
   "nbconvert_exporter": "python",
   "pygments_lexer": "ipython3",
   "version": "3.10.2"
  },
  "vscode": {
   "interpreter": {
    "hash": "aee8b7b246df8f9039afb4144a1f6fd8d2ca17a180786b69acc140d282b71a49"
   }
  }
 },
 "nbformat": 4,
 "nbformat_minor": 5
}
